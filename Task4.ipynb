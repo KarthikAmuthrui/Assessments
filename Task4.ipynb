{
  "cells": [
    {
      "cell_type": "markdown",
      "metadata": {
        "id": "view-in-github",
        "colab_type": "text"
      },
      "source": [
        "<a href=\"https://colab.research.google.com/github/KarthikAmuthrui/Assessments/blob/main/Task4.ipynb\" target=\"_parent\"><img src=\"https://colab.research.google.com/assets/colab-badge.svg\" alt=\"Open In Colab\"/></a>"
      ]
    },
    {
      "cell_type": "markdown",
      "metadata": {
        "id": "LEZGF3WCo6Et"
      },
      "source": [
        "###### Assessment"
      ]
    },
    {
      "cell_type": "markdown",
      "metadata": {
        "id": "uffZlrQVo6Ex"
      },
      "source": [
        "###### I am going to provide two .csv files , you are supposed to work on them and have to provide solutions to the following problems"
      ]
    },
    {
      "cell_type": "markdown",
      "metadata": {
        "id": "1g7CvyRUo6Ey"
      },
      "source": [
        "###### import necessary libraries"
      ]
    },
    {
      "cell_type": "code",
      "execution_count": 1,
      "metadata": {
        "id": "DjTC1pPuo6Ez"
      },
      "outputs": [],
      "source": [
        "import pandas as pd\n",
        "import numpy as np\n",
        "import matplotlib.pyplot as plt\n",
        "import seaborn as sns"
      ]
    },
    {
      "cell_type": "markdown",
      "metadata": {
        "id": "-eo1MIugo6E0"
      },
      "source": [
        "###### merge those two csv files (after getting as dataframes, get them as a single dataframe)"
      ]
    },
    {
      "cell_type": "code",
      "execution_count": 2,
      "metadata": {
        "colab": {
          "base_uri": "https://localhost:8080/",
          "height": 206
        },
        "id": "IHnk6YRLo6E1",
        "outputId": "e9e22dc3-9825-4a16-a4f7-b5a8aaf51fcd"
      },
      "outputs": [
        {
          "output_type": "execute_result",
          "data": {
            "text/plain": [
              "          Name  python  mysql  Previous Geekions  CodeKata Score  \\\n",
              "0    A.Dharani    82.0   20.0              24500           24500   \n",
              "1  V.JEEVITHA     82.0   20.0              21740           21740   \n",
              "2  HEMAVATHI.R   100.0  100.0              19680           19680   \n",
              "3  Mugunthan S   100.0   47.0              10610           10610   \n",
              "4  Sathammai.S   100.0    8.0               8980            8980   \n",
              "\n",
              "                         Department  Rising  python_en  computational_thinking  \n",
              "0  Computer Science and Engineering       0        NaN                     NaN  \n",
              "1  Computer Science and Engineering       0        NaN                     NaN  \n",
              "2  Computer Science and Engineering       0        NaN                     NaN  \n",
              "3  Computer Science and Engineering       0        NaN                     NaN  \n",
              "4  Computer Science and Engineering       0        NaN                     NaN  "
            ],
            "text/html": [
              "\n",
              "  <div id=\"df-4e4a9894-2a96-4376-9733-8a2dda78d3ed\">\n",
              "    <div class=\"colab-df-container\">\n",
              "      <div>\n",
              "<style scoped>\n",
              "    .dataframe tbody tr th:only-of-type {\n",
              "        vertical-align: middle;\n",
              "    }\n",
              "\n",
              "    .dataframe tbody tr th {\n",
              "        vertical-align: top;\n",
              "    }\n",
              "\n",
              "    .dataframe thead th {\n",
              "        text-align: right;\n",
              "    }\n",
              "</style>\n",
              "<table border=\"1\" class=\"dataframe\">\n",
              "  <thead>\n",
              "    <tr style=\"text-align: right;\">\n",
              "      <th></th>\n",
              "      <th>Name</th>\n",
              "      <th>python</th>\n",
              "      <th>mysql</th>\n",
              "      <th>Previous Geekions</th>\n",
              "      <th>CodeKata Score</th>\n",
              "      <th>Department</th>\n",
              "      <th>Rising</th>\n",
              "      <th>python_en</th>\n",
              "      <th>computational_thinking</th>\n",
              "    </tr>\n",
              "  </thead>\n",
              "  <tbody>\n",
              "    <tr>\n",
              "      <th>0</th>\n",
              "      <td>A.Dharani</td>\n",
              "      <td>82.0</td>\n",
              "      <td>20.0</td>\n",
              "      <td>24500</td>\n",
              "      <td>24500</td>\n",
              "      <td>Computer Science and Engineering</td>\n",
              "      <td>0</td>\n",
              "      <td>NaN</td>\n",
              "      <td>NaN</td>\n",
              "    </tr>\n",
              "    <tr>\n",
              "      <th>1</th>\n",
              "      <td>V.JEEVITHA</td>\n",
              "      <td>82.0</td>\n",
              "      <td>20.0</td>\n",
              "      <td>21740</td>\n",
              "      <td>21740</td>\n",
              "      <td>Computer Science and Engineering</td>\n",
              "      <td>0</td>\n",
              "      <td>NaN</td>\n",
              "      <td>NaN</td>\n",
              "    </tr>\n",
              "    <tr>\n",
              "      <th>2</th>\n",
              "      <td>HEMAVATHI.R</td>\n",
              "      <td>100.0</td>\n",
              "      <td>100.0</td>\n",
              "      <td>19680</td>\n",
              "      <td>19680</td>\n",
              "      <td>Computer Science and Engineering</td>\n",
              "      <td>0</td>\n",
              "      <td>NaN</td>\n",
              "      <td>NaN</td>\n",
              "    </tr>\n",
              "    <tr>\n",
              "      <th>3</th>\n",
              "      <td>Mugunthan S</td>\n",
              "      <td>100.0</td>\n",
              "      <td>47.0</td>\n",
              "      <td>10610</td>\n",
              "      <td>10610</td>\n",
              "      <td>Computer Science and Engineering</td>\n",
              "      <td>0</td>\n",
              "      <td>NaN</td>\n",
              "      <td>NaN</td>\n",
              "    </tr>\n",
              "    <tr>\n",
              "      <th>4</th>\n",
              "      <td>Sathammai.S</td>\n",
              "      <td>100.0</td>\n",
              "      <td>8.0</td>\n",
              "      <td>8980</td>\n",
              "      <td>8980</td>\n",
              "      <td>Computer Science and Engineering</td>\n",
              "      <td>0</td>\n",
              "      <td>NaN</td>\n",
              "      <td>NaN</td>\n",
              "    </tr>\n",
              "  </tbody>\n",
              "</table>\n",
              "</div>\n",
              "      <button class=\"colab-df-convert\" onclick=\"convertToInteractive('df-4e4a9894-2a96-4376-9733-8a2dda78d3ed')\"\n",
              "              title=\"Convert this dataframe to an interactive table.\"\n",
              "              style=\"display:none;\">\n",
              "        \n",
              "  <svg xmlns=\"http://www.w3.org/2000/svg\" height=\"24px\"viewBox=\"0 0 24 24\"\n",
              "       width=\"24px\">\n",
              "    <path d=\"M0 0h24v24H0V0z\" fill=\"none\"/>\n",
              "    <path d=\"M18.56 5.44l.94 2.06.94-2.06 2.06-.94-2.06-.94-.94-2.06-.94 2.06-2.06.94zm-11 1L8.5 8.5l.94-2.06 2.06-.94-2.06-.94L8.5 2.5l-.94 2.06-2.06.94zm10 10l.94 2.06.94-2.06 2.06-.94-2.06-.94-.94-2.06-.94 2.06-2.06.94z\"/><path d=\"M17.41 7.96l-1.37-1.37c-.4-.4-.92-.59-1.43-.59-.52 0-1.04.2-1.43.59L10.3 9.45l-7.72 7.72c-.78.78-.78 2.05 0 2.83L4 21.41c.39.39.9.59 1.41.59.51 0 1.02-.2 1.41-.59l7.78-7.78 2.81-2.81c.8-.78.8-2.07 0-2.86zM5.41 20L4 18.59l7.72-7.72 1.47 1.35L5.41 20z\"/>\n",
              "  </svg>\n",
              "      </button>\n",
              "      \n",
              "  <style>\n",
              "    .colab-df-container {\n",
              "      display:flex;\n",
              "      flex-wrap:wrap;\n",
              "      gap: 12px;\n",
              "    }\n",
              "\n",
              "    .colab-df-convert {\n",
              "      background-color: #E8F0FE;\n",
              "      border: none;\n",
              "      border-radius: 50%;\n",
              "      cursor: pointer;\n",
              "      display: none;\n",
              "      fill: #1967D2;\n",
              "      height: 32px;\n",
              "      padding: 0 0 0 0;\n",
              "      width: 32px;\n",
              "    }\n",
              "\n",
              "    .colab-df-convert:hover {\n",
              "      background-color: #E2EBFA;\n",
              "      box-shadow: 0px 1px 2px rgba(60, 64, 67, 0.3), 0px 1px 3px 1px rgba(60, 64, 67, 0.15);\n",
              "      fill: #174EA6;\n",
              "    }\n",
              "\n",
              "    [theme=dark] .colab-df-convert {\n",
              "      background-color: #3B4455;\n",
              "      fill: #D2E3FC;\n",
              "    }\n",
              "\n",
              "    [theme=dark] .colab-df-convert:hover {\n",
              "      background-color: #434B5C;\n",
              "      box-shadow: 0px 1px 3px 1px rgba(0, 0, 0, 0.15);\n",
              "      filter: drop-shadow(0px 1px 2px rgba(0, 0, 0, 0.3));\n",
              "      fill: #FFFFFF;\n",
              "    }\n",
              "  </style>\n",
              "\n",
              "      <script>\n",
              "        const buttonEl =\n",
              "          document.querySelector('#df-4e4a9894-2a96-4376-9733-8a2dda78d3ed button.colab-df-convert');\n",
              "        buttonEl.style.display =\n",
              "          google.colab.kernel.accessAllowed ? 'block' : 'none';\n",
              "\n",
              "        async function convertToInteractive(key) {\n",
              "          const element = document.querySelector('#df-4e4a9894-2a96-4376-9733-8a2dda78d3ed');\n",
              "          const dataTable =\n",
              "            await google.colab.kernel.invokeFunction('convertToInteractive',\n",
              "                                                     [key], {});\n",
              "          if (!dataTable) return;\n",
              "\n",
              "          const docLinkHtml = 'Like what you see? Visit the ' +\n",
              "            '<a target=\"_blank\" href=https://colab.research.google.com/notebooks/data_table.ipynb>data table notebook</a>'\n",
              "            + ' to learn more about interactive tables.';\n",
              "          element.innerHTML = '';\n",
              "          dataTable['output_type'] = 'display_data';\n",
              "          await google.colab.output.renderOutput(dataTable, element);\n",
              "          const docLink = document.createElement('div');\n",
              "          docLink.innerHTML = docLinkHtml;\n",
              "          element.appendChild(docLink);\n",
              "        }\n",
              "      </script>\n",
              "    </div>\n",
              "  </div>\n",
              "  "
            ]
          },
          "metadata": {},
          "execution_count": 2
        }
      ],
      "source": [
        "df = pd.concat(map(pd.read_csv,['college_1.csv','college_2.csv']),ignore_index = True)\n",
        "df.head()"
      ]
    },
    {
      "cell_type": "code",
      "source": [
        "df.shape"
      ],
      "metadata": {
        "colab": {
          "base_uri": "https://localhost:8080/"
        },
        "id": "Y_aXaTWEw2ab",
        "outputId": "7c3f1920-eeb1-4875-e9e8-94e1a32e9b6c"
      },
      "execution_count": 3,
      "outputs": [
        {
          "output_type": "execute_result",
          "data": {
            "text/plain": [
              "(119, 9)"
            ]
          },
          "metadata": {},
          "execution_count": 3
        }
      ]
    },
    {
      "cell_type": "markdown",
      "metadata": {
        "id": "OabjVSy7o6E1"
      },
      "source": [
        "###### Take each csv file , split that csv file into multiple categories (example csv files are added in the repo) \n"
      ]
    },
    {
      "cell_type": "markdown",
      "metadata": {
        "id": "OwOd0_kMo6E2"
      },
      "source": [
        "###### consider if the codekata score exceeds 15000 points(present week) then make a csv on those observations as Exceeded expectations.csv\n"
      ]
    },
    {
      "cell_type": "markdown",
      "metadata": {
        "id": "7pgE5HxJo6E3"
      },
      "source": [
        "###### if  10000<codekata score<15000   (Reached_expectations.csv)\n",
        "\n"
      ]
    },
    {
      "cell_type": "markdown",
      "metadata": {
        "id": "N80NssMIo6E4"
      },
      "source": [
        "###### if  7000<codekata score<10000   (Needs_Improvement.csv)\n"
      ]
    },
    {
      "cell_type": "markdown",
      "metadata": {
        "id": "Ve0wJ7_Mo6E4"
      },
      "source": [
        "###### if  codekate score < 7000        (Unsatisfactory.csv)"
      ]
    },
    {
      "cell_type": "markdown",
      "source": [
        "\n",
        "\n",
        "---\n",
        "\n"
      ],
      "metadata": {
        "id": "SG_eilv3xWbA"
      }
    },
    {
      "cell_type": "markdown",
      "source": [
        "**1.creating Exceeded_expectations.csv**"
      ],
      "metadata": {
        "id": "NCjGh6OSxXil"
      }
    },
    {
      "cell_type": "code",
      "execution_count": 4,
      "metadata": {
        "id": "eqVsY_Kmo6E5"
      },
      "outputs": [],
      "source": [
        "df1 = df[df['CodeKata Score'] > 15000]"
      ]
    },
    {
      "cell_type": "code",
      "source": [
        "df1.to_csv('Exceeded_expectations.csv',index = False)"
      ],
      "metadata": {
        "id": "LiMZ44g-xIrH"
      },
      "execution_count": 5,
      "outputs": []
    },
    {
      "cell_type": "code",
      "source": [
        "new_df = pd.read_csv('Exceeded_expectations.csv')\n",
        "print(new_df)"
      ],
      "metadata": {
        "colab": {
          "base_uri": "https://localhost:8080/"
        },
        "id": "QsEdYMe8xrMN",
        "outputId": "e19b944b-a9be-494b-e46c-ec7c97cf4e04"
      },
      "execution_count": 6,
      "outputs": [
        {
          "output_type": "stream",
          "name": "stdout",
          "text": [
            "            Name  python  mysql  Previous Geekions  CodeKata Score  \\\n",
            "0      A.Dharani    82.0   20.0              24500           24500   \n",
            "1    V.JEEVITHA     82.0   20.0              21740           21740   \n",
            "2    HEMAVATHI.R   100.0  100.0              19680           19680   \n",
            "3  ASHOK KUMAR K   100.0   31.0              19400           19400   \n",
            "\n",
            "                               Department  Rising  python_en  \\\n",
            "0        Computer Science and Engineering       0        NaN   \n",
            "1        Computer Science and Engineering       0        NaN   \n",
            "2        Computer Science and Engineering       0        NaN   \n",
            "3  Electronics and Electrical Engineering       0        0.0   \n",
            "\n",
            "   computational_thinking  \n",
            "0                     NaN  \n",
            "1                     NaN  \n",
            "2                     NaN  \n",
            "3                     9.0  \n"
          ]
        }
      ]
    },
    {
      "cell_type": "markdown",
      "source": [
        "**2.creating Reached_expectations.csv**"
      ],
      "metadata": {
        "id": "trlkpnRbzNw_"
      }
    },
    {
      "cell_type": "code",
      "execution_count": 7,
      "metadata": {
        "id": "O2dsOVOqo6E5"
      },
      "outputs": [],
      "source": [
        "df2 = df[(df['CodeKata Score'] > 10000) & (df['CodeKata Score'] < 15000)]"
      ]
    },
    {
      "cell_type": "code",
      "source": [
        "df2.to_csv('Reached_expectations.csv', index = False)"
      ],
      "metadata": {
        "id": "k-uJAtNvzWak"
      },
      "execution_count": 8,
      "outputs": []
    },
    {
      "cell_type": "code",
      "source": [
        "new_df = pd.read_csv('Reached_expectations.csv')\n",
        "print(new_df)"
      ],
      "metadata": {
        "colab": {
          "base_uri": "https://localhost:8080/"
        },
        "id": "mFkD9-KTzWRk",
        "outputId": "9482c05b-ae80-403b-f19f-0a17ebf80596"
      },
      "execution_count": 9,
      "outputs": [
        {
          "output_type": "stream",
          "name": "stdout",
          "text": [
            "                Name  python  mysql  Previous Geekions  CodeKata Score  \\\n",
            "0        Mugunthan S   100.0   47.0              10610           10610   \n",
            "1            Chandru     0.0    0.0              14150           14490   \n",
            "2  Ganesh Ramkumar R    -1.0   24.0               8790           10790   \n",
            "3    Bodipudi Harini    -1.0   35.0              10040           10040   \n",
            "\n",
            "                                  Department  Rising  python_en  \\\n",
            "0           Computer Science and Engineering       0        NaN   \n",
            "1           Computer Science and Engineering     340       20.0   \n",
            "2           Computer Science and Engineering    2000       55.0   \n",
            "3  Electronics and Communication Engineering       0        0.0   \n",
            "\n",
            "   computational_thinking  \n",
            "0                     NaN  \n",
            "1                     0.0  \n",
            "2                     6.0  \n",
            "3                    -1.0  \n"
          ]
        }
      ]
    },
    {
      "cell_type": "markdown",
      "source": [
        "**3.creating Needs_Improvement.csv**"
      ],
      "metadata": {
        "id": "QhdaQVeDzr8b"
      }
    },
    {
      "cell_type": "code",
      "source": [
        "df3 = df[(df['CodeKata Score'] > 7000) & (df['CodeKata Score'] < 10000)]"
      ],
      "metadata": {
        "id": "Rv9BI0awwpSJ"
      },
      "execution_count": 10,
      "outputs": []
    },
    {
      "cell_type": "code",
      "source": [
        "df3.to_csv('Needs_Improvement.csv',index = False)"
      ],
      "metadata": {
        "id": "WUlGLMK1z3fQ"
      },
      "execution_count": 11,
      "outputs": []
    },
    {
      "cell_type": "code",
      "source": [
        "new_df = pd.read_csv('Needs_Improvement.csv')\n",
        "print(new_df)"
      ],
      "metadata": {
        "colab": {
          "base_uri": "https://localhost:8080/"
        },
        "id": "ypPNyAegz3WU",
        "outputId": "2f58e150-efdb-4a80-bb38-9491f2ad71d5"
      },
      "execution_count": 12,
      "outputs": [
        {
          "output_type": "stream",
          "name": "stdout",
          "text": [
            "                      Name  python  mysql  Previous Geekions  CodeKata Score  \\\n",
            "0              Sathammai.S   100.0    8.0               8980            8980   \n",
            "1             NIVEESHWAR S   100.0    0.0               8200            8200   \n",
            "2            KALAIARASAN K    85.0   47.0               7750            7880   \n",
            "3     MOHAMED ZUBAIR AHMED    82.0    4.0               7020            7020   \n",
            "4                VIINU V P    -1.0   24.0               9150            9150   \n",
            "5               Poojitha Y     0.0   35.0               7210            8970   \n",
            "6   Gowtham Chandrasekaran    -1.0    0.0               7250            8950   \n",
            "7                Gowtham R    -1.0    4.0               8650            8650   \n",
            "8                 shifak N    58.0    0.0               5180            8320   \n",
            "9                  Balaji     -1.0   20.0               6170            8160   \n",
            "10                Rushitha    -1.0   62.0               7470            8090   \n",
            "11    Balaraman Muthupandi    -1.0    0.0               7670            8050   \n",
            "12                JPradhap   100.0    0.0               7340            8030   \n",
            "13           SRIRAMKUMAR B    -1.0    0.0               6400            7940   \n",
            "14               Praneetha    -1.0  100.0               7170            7730   \n",
            "15             Rahul Raj K    -1.0    0.0               6280            7640   \n",
            "16                 Guhan S    -1.0   35.0               7310            7630   \n",
            "17            Suryarajan S    -1.0   31.0               6710            7550   \n",
            "\n",
            "                                   Department  Rising  python_en  \\\n",
            "0            Computer Science and Engineering       0        NaN   \n",
            "1            Computer Science and Engineering       0        NaN   \n",
            "2   Electronics and Communication Engineering     130        NaN   \n",
            "3            Computer Science and Engineering       0        NaN   \n",
            "4      Electronics and Electrical Engineering       0      100.0   \n",
            "5            Computer Science and Engineering    1760       78.0   \n",
            "6            Computer Science and Engineering    1700        0.0   \n",
            "7   Electronics and Communication Engineering       0       60.0   \n",
            "8      Electronics and Electrical Engineering    3140        0.0   \n",
            "9      Electronics and Electrical Engineering    1990      100.0   \n",
            "10           Computer Science and Engineering     620       15.0   \n",
            "11           Computer Science and Engineering     380        9.0   \n",
            "12     Electronics and Electrical Engineering     690        0.0   \n",
            "13           Computer Science and Engineering    1540        0.0   \n",
            "14  Electronics and Communication Engineering     560       23.0   \n",
            "15           Computer Science and Engineering    1360        0.0   \n",
            "16  Electronics and Communication Engineering     320       72.0   \n",
            "17           Computer Science and Engineering     840       63.0   \n",
            "\n",
            "    computational_thinking  \n",
            "0                      NaN  \n",
            "1                      NaN  \n",
            "2                      NaN  \n",
            "3                      NaN  \n",
            "4                     -1.0  \n",
            "5                      0.0  \n",
            "6                      3.0  \n",
            "7                      6.0  \n",
            "8                      0.0  \n",
            "9                      0.0  \n",
            "10                     9.0  \n",
            "11                     0.0  \n",
            "12                     0.0  \n",
            "13                     0.0  \n",
            "14                    -1.0  \n",
            "15                     0.0  \n",
            "16                    39.0  \n",
            "17                     0.0  \n"
          ]
        }
      ]
    },
    {
      "cell_type": "markdown",
      "source": [
        "**4.creating Unsatisfactory.csv**"
      ],
      "metadata": {
        "id": "NnOyFuV00XEo"
      }
    },
    {
      "cell_type": "code",
      "source": [
        "df4 = df[df['CodeKata Score'] < 7000]"
      ],
      "metadata": {
        "id": "oO5jEd0uwpLv"
      },
      "execution_count": 13,
      "outputs": []
    },
    {
      "cell_type": "code",
      "source": [
        "df4.to_csv('Unsatisfactory.csv',index = False)"
      ],
      "metadata": {
        "id": "FexyU60t0Nlz"
      },
      "execution_count": 14,
      "outputs": []
    },
    {
      "cell_type": "code",
      "source": [
        "new_df = pd.read_csv('Unsatisfactory.csv')\n",
        "print(new_df)"
      ],
      "metadata": {
        "colab": {
          "base_uri": "https://localhost:8080/"
        },
        "id": "enjD3MLo0NhS",
        "outputId": "d87774ce-9663-4bde-ea2b-ef2ac0bd2f51"
      },
      "execution_count": 15,
      "outputs": [
        {
          "output_type": "stream",
          "name": "stdout",
          "text": [
            "               Name  python  mysql  Previous Geekions  CodeKata Score  \\\n",
            "0        J.SUGANTHI    27.0  50.00               5860            5860   \n",
            "1      thamizhpaana    29.0   0.00               5500            5500   \n",
            "2   Iyappan Samiraj    50.0  24.00               5400            5400   \n",
            "3      Ponniyamma.R   100.0  11.25               5380            5380   \n",
            "4         SABAPATHI   100.0   0.00               5280            5280   \n",
            "..              ...     ...    ...                ...             ...   \n",
            "88    praveen raj j    24.0   0.00               2380            2380   \n",
            "89       AMARNATH D    -1.0  12.00               1890            1890   \n",
            "90             bala    32.0   0.00               1720            1720   \n",
            "91             XY Z    -1.0  -1.00                  0               0   \n",
            "92        Hariharan    -1.0  -1.00                  0               0   \n",
            "\n",
            "                                   Department  Rising  python_en  \\\n",
            "0   Electronics and Communication Engineering       0        NaN   \n",
            "1            Computer Science and Engineering       0        NaN   \n",
            "2   Electronics and Communication Engineering       0        NaN   \n",
            "3            Computer Science and Engineering       0        NaN   \n",
            "4            Computer Science and Engineering       0        NaN   \n",
            "..                                        ...     ...        ...   \n",
            "88           Computer Science and Engineering       0       -1.0   \n",
            "89  Electronics and Communication Engineering       0       52.0   \n",
            "90  Electronics and Communication Engineering       0       49.0   \n",
            "91           Computer Science and Engineering       0       20.0   \n",
            "92           Computer Science and Engineering       0       -1.0   \n",
            "\n",
            "    computational_thinking  \n",
            "0                      NaN  \n",
            "1                      NaN  \n",
            "2                      NaN  \n",
            "3                      NaN  \n",
            "4                      NaN  \n",
            "..                     ...  \n",
            "88                     0.0  \n",
            "89                    -1.0  \n",
            "90                    -1.0  \n",
            "91                    -1.0  \n",
            "92                     0.0  \n",
            "\n",
            "[93 rows x 9 columns]\n"
          ]
        }
      ]
    },
    {
      "cell_type": "markdown",
      "metadata": {
        "id": "9qP8z_c1o6E5"
      },
      "source": [
        "###### Average of previous week geekions vs this week geekions (i.e Previous Geekions vs CodeKata Score)"
      ]
    },
    {
      "cell_type": "code",
      "execution_count": 16,
      "metadata": {
        "id": "oUi-dJJCo6E5"
      },
      "outputs": [],
      "source": [
        "avg_geek_coins = df['Previous Geekions'].mean()\n",
        "avg_codekata_score = df['CodeKata Score'].mean()"
      ]
    },
    {
      "cell_type": "code",
      "source": [
        "print(avg_geek_coins)\n",
        "print(avg_codekata_score)"
      ],
      "metadata": {
        "colab": {
          "base_uri": "https://localhost:8080/"
        },
        "id": "9pG3iKHY3bZ_",
        "outputId": "c810fa29-d59f-41d3-f4c1-9693f9c32cea"
      },
      "execution_count": 17,
      "outputs": [
        {
          "output_type": "stream",
          "name": "stdout",
          "text": [
            "3842.3529411764707\n",
            "4051.764705882353\n"
          ]
        }
      ]
    },
    {
      "cell_type": "code",
      "source": [
        "names = ['Geekoins', 'Codekata_Score']\n",
        "values = [avg_geek_coins, avg_codekata_score]"
      ],
      "metadata": {
        "id": "FaIajPpDB2D1"
      },
      "execution_count": 18,
      "outputs": []
    },
    {
      "cell_type": "code",
      "source": [
        "plt.bar(names, values, color = 'green', width = 0.4)\n",
        "plt.show()"
      ],
      "metadata": {
        "colab": {
          "base_uri": "https://localhost:8080/",
          "height": 266
        },
        "id": "VIcDvD5vBZ8K",
        "outputId": "389c6fe7-624c-4746-ab6e-453b7c4df739"
      },
      "execution_count": 19,
      "outputs": [
        {
          "output_type": "display_data",
          "data": {
            "text/plain": [
              "<Figure size 432x288 with 1 Axes>"
            ],
            "image/png": "[encoded data removed]"
          },
          "metadata": {
            "needs_background": "light"
          }
        }
      ]
    },
    {
      "cell_type": "markdown",
      "metadata": {
        "id": "8XinuRoAo6E5"
      },
      "source": [
        "###### No of students participated "
      ]
    },
    {
      "cell_type": "code",
      "source": [
        "df['Name'].nunique()"
      ],
      "metadata": {
        "colab": {
          "base_uri": "https://localhost:8080/"
        },
        "id": "oVsQ8UgKDA2Y",
        "outputId": "3e08332b-d666-41ec-f98c-8a04241500b2"
      },
      "execution_count": 20,
      "outputs": [
        {
          "output_type": "execute_result",
          "data": {
            "text/plain": [
              "119"
            ]
          },
          "metadata": {},
          "execution_count": 20
        }
      ]
    },
    {
      "cell_type": "code",
      "execution_count": 21,
      "metadata": {
        "colab": {
          "base_uri": "https://localhost:8080/"
        },
        "id": "5-fMnhtSo6E6",
        "outputId": "59504f1c-f9aa-4949-f040-c03d8a1f44a1"
      },
      "outputs": [
        {
          "output_type": "stream",
          "name": "stdout",
          "text": [
            "No.of Students participated: 119\n"
          ]
        }
      ],
      "source": [
        "print('No.of Students participated:',len(df))"
      ]
    },
    {
      "cell_type": "markdown",
      "metadata": {
        "id": "_fDd6sx5o6E6"
      },
      "source": [
        "###### #Average completion of python course or my_sql or python english or computational thinking"
      ]
    },
    {
      "cell_type": "code",
      "source": [
        "df.isnull().sum()"
      ],
      "metadata": {
        "colab": {
          "base_uri": "https://localhost:8080/"
        },
        "id": "8ktaU4ug4qjv",
        "outputId": "27640fb3-3f56-4075-cbc0-435584e89ada"
      },
      "execution_count": 22,
      "outputs": [
        {
          "output_type": "execute_result",
          "data": {
            "text/plain": [
              "Name                       0\n",
              "python                     0\n",
              "mysql                      0\n",
              "Previous Geekions          0\n",
              "CodeKata Score             0\n",
              "Department                 0\n",
              "Rising                     0\n",
              "python_en                 84\n",
              "computational_thinking    84\n",
              "dtype: int64"
            ]
          },
          "metadata": {},
          "execution_count": 22
        }
      ]
    },
    {
      "cell_type": "code",
      "source": [
        "df.replace(np.nan,0, inplace = True)"
      ],
      "metadata": {
        "id": "ZoN-Zg8q4bVT"
      },
      "execution_count": 23,
      "outputs": []
    },
    {
      "cell_type": "code",
      "source": [
        "avg_python = df[df['python'] != -1]['python'].mean()\n",
        "avg_python"
      ],
      "metadata": {
        "colab": {
          "base_uri": "https://localhost:8080/"
        },
        "id": "Z9McU3vQ43EX",
        "outputId": "872097d7-356d-487a-b084-a805181ecaf6"
      },
      "execution_count": 24,
      "outputs": [
        {
          "output_type": "execute_result",
          "data": {
            "text/plain": [
              "70.59782608695652"
            ]
          },
          "metadata": {},
          "execution_count": 24
        }
      ]
    },
    {
      "cell_type": "code",
      "source": [
        "avg_mysql = df[df['mysql'] != -1]['mysql'].mean()\n",
        "avg_mysql"
      ],
      "metadata": {
        "colab": {
          "base_uri": "https://localhost:8080/"
        },
        "id": "BNAojNmo5Z5r",
        "outputId": "4ebd7ebc-9f69-490a-91da-428525e1bdae"
      },
      "execution_count": 25,
      "outputs": [
        {
          "output_type": "execute_result",
          "data": {
            "text/plain": [
              "23.918803418803417"
            ]
          },
          "metadata": {},
          "execution_count": 25
        }
      ]
    },
    {
      "cell_type": "code",
      "source": [
        "avg_python_en = df[df['python_en'] != -1]['python_en'].mean()\n",
        "avg_python_en"
      ],
      "metadata": {
        "colab": {
          "base_uri": "https://localhost:8080/"
        },
        "id": "GKqHhsct5w2p",
        "outputId": "07e613bf-ec26-41f8-9e60-6c39d57d7306"
      },
      "execution_count": 26,
      "outputs": [
        {
          "output_type": "execute_result",
          "data": {
            "text/plain": [
              "8.974137931034482"
            ]
          },
          "metadata": {},
          "execution_count": 26
        }
      ]
    },
    {
      "cell_type": "code",
      "source": [
        "avg_computational_thinking = df[df['computational_thinking'] != -1]['computational_thinking'].mean()\n",
        "avg_computational_thinking"
      ],
      "metadata": {
        "colab": {
          "base_uri": "https://localhost:8080/"
        },
        "id": "xheGspYh6MbJ",
        "outputId": "93cb7d67-c5c8-4d1b-f705-df285adc7086"
      },
      "execution_count": 27,
      "outputs": [
        {
          "output_type": "execute_result",
          "data": {
            "text/plain": [
              "0.75"
            ]
          },
          "metadata": {},
          "execution_count": 27
        }
      ]
    },
    {
      "cell_type": "code",
      "source": [
        "Total_avg = (avg_python + avg_mysql + avg_python_en + avg_computational_thinking)/4"
      ],
      "metadata": {
        "id": "NAQZaAcL5bIC"
      },
      "execution_count": 28,
      "outputs": []
    },
    {
      "cell_type": "code",
      "source": [
        "print('Average completion of python course or my_sql or python english or computational thinking is :',Total_avg)"
      ],
      "metadata": {
        "id": "6tWMG65q5bFK",
        "colab": {
          "base_uri": "https://localhost:8080/"
        },
        "outputId": "2360d62b-3d84-4ad1-cab2-7f8c5044ac6a"
      },
      "execution_count": 29,
      "outputs": [
        {
          "output_type": "stream",
          "name": "stdout",
          "text": [
            "Average completion of python course or my_sql or python english or computational thinking is : 26.060191859198603\n"
          ]
        }
      ]
    },
    {
      "cell_type": "markdown",
      "source": [
        "Average completion of python course or my_sql or python english or computational thinking is : **26.06**"
      ],
      "metadata": {
        "id": "QGL-N4lT6ToG"
      }
    },
    {
      "cell_type": "markdown",
      "metadata": {
        "id": "OazyGUpHo6E6"
      },
      "source": [
        "###### rising star of the week (top 3 candidate who performed well in that particular week)"
      ]
    },
    {
      "cell_type": "code",
      "source": [
        "rising_stars  = df['Rising'].sort_values(ascending = False)"
      ],
      "metadata": {
        "id": "89QFtLzqzTht"
      },
      "execution_count": 30,
      "outputs": []
    },
    {
      "cell_type": "code",
      "execution_count": 31,
      "metadata": {
        "colab": {
          "base_uri": "https://localhost:8080/"
        },
        "id": "yd1qr9JNo6E7",
        "outputId": "1b9f534f-d167-41fd-c6c1-be153f21d31c"
      },
      "outputs": [
        {
          "output_type": "execute_result",
          "data": {
            "text/plain": [
              "Int64Index([92, 102, 86], dtype='int64')"
            ]
          },
          "metadata": {},
          "execution_count": 31
        }
      ],
      "source": [
        "indexes = rising_stars[:3].index\n",
        "indexes\n"
      ]
    },
    {
      "cell_type": "code",
      "source": [
        "print('rising star of the week:')\n",
        "for i in range(len(indexes)):\n",
        "  print(i+1,df.loc[indexes[i],'Name'])"
      ],
      "metadata": {
        "colab": {
          "base_uri": "https://localhost:8080/"
        },
        "id": "AO-RoDBH9_6H",
        "outputId": "a1361fa1-c708-4372-c5e0-10861d6b9236"
      },
      "execution_count": 32,
      "outputs": [
        {
          "output_type": "stream",
          "name": "stdout",
          "text": [
            "rising star of the week:\n",
            "1 shifak N\n",
            "2 Narasimhan Y L\n",
            "3 Ganesh Ramkumar R\n"
          ]
        }
      ]
    },
    {
      "cell_type": "markdown",
      "metadata": {
        "id": "utV83oHvo6E7"
      },
      "source": [
        "###### Shining stars of the week (top 3 candidates who has highest geekions)"
      ]
    },
    {
      "cell_type": "code",
      "execution_count": 33,
      "metadata": {
        "colab": {
          "base_uri": "https://localhost:8080/"
        },
        "id": "aWHHuWW-o6E7",
        "outputId": "3aaf4d9c-3007-4b5d-9e8c-eff18aaf6dfa"
      },
      "outputs": [
        {
          "output_type": "execute_result",
          "data": {
            "text/plain": [
              "0      24500\n",
              "1      21740\n",
              "2      19680\n",
              "84     19400\n",
              "85     14150\n",
              "       ...  \n",
              "82         0\n",
              "79         0\n",
              "80         0\n",
              "81         0\n",
              "118        0\n",
              "Name: Previous Geekions, Length: 119, dtype: int64"
            ]
          },
          "metadata": {},
          "execution_count": 33
        }
      ],
      "source": [
        "shining_stars = df['Previous Geekions'].sort_values(ascending = False)\n",
        "shining_stars"
      ]
    },
    {
      "cell_type": "code",
      "source": [
        "indexes = shining_stars[:3].index\n",
        "indexes"
      ],
      "metadata": {
        "colab": {
          "base_uri": "https://localhost:8080/"
        },
        "id": "P5Hy5p9e_zp_",
        "outputId": "8e56d4eb-2606-4086-b822-658ca1db0798"
      },
      "execution_count": 34,
      "outputs": [
        {
          "output_type": "execute_result",
          "data": {
            "text/plain": [
              "Int64Index([0, 1, 2], dtype='int64')"
            ]
          },
          "metadata": {},
          "execution_count": 34
        }
      ]
    },
    {
      "cell_type": "code",
      "source": [
        "print('shining star of the week:')\n",
        "for i in range(len(indexes)):\n",
        "  print(i+1,df.loc[indexes[i],'Name'])"
      ],
      "metadata": {
        "colab": {
          "base_uri": "https://localhost:8080/"
        },
        "id": "GrWxK0EI_0SP",
        "outputId": "6eb11519-c823-4f67-bd8a-67bf8869f459"
      },
      "execution_count": 35,
      "outputs": [
        {
          "output_type": "stream",
          "name": "stdout",
          "text": [
            "shining star of the week:\n",
            "1 A.Dharani\n",
            "2 V.JEEVITHA \n",
            "3 HEMAVATHI.R\n"
          ]
        }
      ]
    },
    {
      "cell_type": "markdown",
      "metadata": {
        "id": "l9q_HGh7o6E7"
      },
      "source": [
        "###### Department wise codekata performence (pie chart)"
      ]
    },
    {
      "cell_type": "code",
      "source": [
        "CSE = df[(df['Department'] == 'Computer Science and Engineering')]['CodeKata Score'].sum()\n",
        "ECE = df[(df['Department'] == 'Electronics and Communication Engineering')]['CodeKata Score'].sum()\n",
        "EEE = df[(df['Department'] == 'Electronics and Electrical Engineering')]['CodeKata Score'].sum()"
      ],
      "metadata": {
        "id": "3ZgbZPTy9-U3"
      },
      "execution_count": 36,
      "outputs": []
    },
    {
      "cell_type": "code",
      "source": [
        "codekata_scores = [CSE, ECE, EEE]\n",
        "codekata_scores"
      ],
      "metadata": {
        "colab": {
          "base_uri": "https://localhost:8080/"
        },
        "id": "6kcJJUZw-ndX",
        "outputId": "ee2cf5cc-ef0b-4c31-d2c0-15349e9d4938"
      },
      "execution_count": 37,
      "outputs": [
        {
          "output_type": "execute_result",
          "data": {
            "text/plain": [
              "[320025, 108335, 53800]"
            ]
          },
          "metadata": {},
          "execution_count": 37
        }
      ]
    },
    {
      "cell_type": "code",
      "execution_count": 38,
      "metadata": {
        "id": "9y6qf9Hwo6E8"
      },
      "outputs": [],
      "source": [
        "label = df['Department'].unique()\n",
        "department_names = [label[i] for i in range(len(label))]"
      ]
    },
    {
      "cell_type": "code",
      "source": [
        "department_names"
      ],
      "metadata": {
        "colab": {
          "base_uri": "https://localhost:8080/"
        },
        "id": "h0yC3ENC6pXY",
        "outputId": "2b6f72cb-963a-43e5-fe62-c0a3045dd16b"
      },
      "execution_count": 39,
      "outputs": [
        {
          "output_type": "execute_result",
          "data": {
            "text/plain": [
              "['Computer Science and Engineering',\n",
              " 'Electronics and Communication Engineering',\n",
              " 'Electronics and Electrical Engineering']"
            ]
          },
          "metadata": {},
          "execution_count": 39
        }
      ]
    },
    {
      "cell_type": "code",
      "source": [
        "plt.figure(figsize = (7,7))\n",
        "plt.pie(codekata_scores, labels = department_names, autopct='%.2f')\n",
        "plt.title('Department wise codekata performence')\n",
        "plt.legend()\n",
        "plt.show()"
      ],
      "metadata": {
        "colab": {
          "base_uri": "https://localhost:8080/",
          "height": 427
        },
        "id": "mkeYCn_89KjZ",
        "outputId": "1eb596d8-53ba-42d7-ac9f-14aac8c5b5b9"
      },
      "execution_count": 40,
      "outputs": [
        {
          "output_type": "display_data",
          "data": {
            "text/plain": [
              "<Figure size 504x504 with 1 Axes>"
            ],
            "image/png": "[encoded data removed]"
          },
          "metadata": {}
        }
      ]
    },
    {
      "cell_type": "markdown",
      "metadata": {
        "id": "fyfnoj2Oo6E8"
      },
      "source": [
        "###### Department wise toppers (horizantal bar graph or any visual representations of your choice)"
      ]
    },
    {
      "cell_type": "code",
      "execution_count": 41,
      "metadata": {
        "id": "qSb2K42yo6E8",
        "colab": {
          "base_uri": "https://localhost:8080/"
        },
        "outputId": "679f3776-9176-49a9-f6fd-fe4d00cf4867"
      },
      "outputs": [
        {
          "output_type": "stream",
          "name": "stdout",
          "text": [
            "cse_max_score : 24500\n",
            "ece_max_score : 10040\n",
            "eee_max_score : 19400\n"
          ]
        }
      ],
      "source": [
        "print('cse_max_score :', df[df['Department'] == 'Computer Science and Engineering']['CodeKata Score'].max())\n",
        "print('ece_max_score :', df[df['Department'] == 'Electronics and Communication Engineering']['CodeKata Score'].max())\n",
        "print('eee_max_score :', df[df['Department'] == 'Electronics and Electrical Engineering']['CodeKata Score'].max())"
      ]
    },
    {
      "cell_type": "code",
      "execution_count": 42,
      "metadata": {
        "id": "Y2MMaImuo6E8",
        "colab": {
          "base_uri": "https://localhost:8080/"
        },
        "outputId": "cb5c6093-2209-493b-e268-13e830fdb79d"
      },
      "outputs": [
        {
          "output_type": "stream",
          "name": "stdout",
          "text": [
            "cse_topper_name : 0    A.Dharani\n",
            "Name: Name, dtype: object\n",
            "ece_topper_name : 87    Bodipudi Harini\n",
            "Name: Name, dtype: object\n",
            "eee_topper_name : 84    ASHOK KUMAR K\n",
            "Name: Name, dtype: object\n"
          ]
        }
      ],
      "source": [
        "print('cse_topper_name :', df[df['CodeKata Score'] == 24500]['Name'])\n",
        "print('ece_topper_name :', df[df['CodeKata Score'] == 10040]['Name'])\n",
        "print('eee_topper_name :', df[df['CodeKata Score'] == 19400]['Name'])"
      ]
    },
    {
      "cell_type": "code",
      "source": [
        "names  = ['A.Dharani', 'Bodipudi Harini', 'ASHOK KUMAR K']\n",
        "labels = ['CSE', 'ECE', 'EEE']\n",
        "scores = [24500, 10040, 19400]"
      ],
      "metadata": {
        "id": "2mk2E6WaFD34"
      },
      "execution_count": 43,
      "outputs": []
    },
    {
      "cell_type": "code",
      "source": [
        "sns.barplot(names, scores,hue = labels)\n",
        "plt.title('Department wise toppers')\n",
        "plt.xlabel('Toppers of each department')\n",
        "plt.ylabel('Codekata sores')\n",
        "plt.legend(loc = 'upper center')\n",
        "plt.show()"
      ],
      "metadata": {
        "colab": {
          "base_uri": "https://localhost:8080/",
          "height": 351
        },
        "id": "uygQJcbSGHrM",
        "outputId": "b982a446-486f-4772-a5c7-eb1c25456dbc"
      },
      "execution_count": 44,
      "outputs": [
        {
          "output_type": "stream",
          "name": "stderr",
          "text": [
            "/usr/local/lib/python3.7/dist-packages/seaborn/_decorators.py:43: FutureWarning: Pass the following variables as keyword args: x, y. From version 0.12, the only valid positional argument will be `data`, and passing other arguments without an explicit keyword will result in an error or misinterpretation.\n",
            "  FutureWarning\n"
          ]
        },
        {
          "output_type": "display_data",
          "data": {
            "text/plain": [
              "<Figure size 432x288 with 1 Axes>"
            ],
            "image/png": "[encoded data removed]"
          },
          "metadata": {
            "needs_background": "light"
          }
        }
      ]
    }
  ],
  "metadata": {
    "kernelspec": {
      "display_name": "Python 3",
      "language": "python",
      "name": "python3"
    },
    "language_info": {
      "codemirror_mode": {
        "name": "ipython",
        "version": 3
      },
      "file_extension": ".py",
      "mimetype": "text/x-python",
      "name": "python",
      "nbconvert_exporter": "python",
      "pygments_lexer": "ipython3",
      "version": "3.8.3"
    },
    "colab": {
      "provenance": [],
      "collapsed_sections": [],
      "include_colab_link": true
    }
  },
  "nbformat": 4,
  "nbformat_minor": 0
}